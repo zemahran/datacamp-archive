{
  "nbformat": 4,
  "nbformat_minor": 0,
  "metadata": {
    "colab": {
      "name": "iris_graphical_eda.ipynb",
      "version": "0.3.2",
      "provenance": [],
      "collapsed_sections": []
    },
    "kernelspec": {
      "name": "python3",
      "display_name": "Python 3"
    }
  },
  "cells": [
    {
      "metadata": {
        "id": "ZsfdunQvBKxZ",
        "colab_type": "text"
      },
      "cell_type": "markdown",
      "source": [
        "## Graphical Exploratory Data Analysis on the Iris Dataset"
      ]
    },
    {
      "metadata": {
        "id": "mbKcE90Otml6",
        "colab_type": "code",
        "colab": {}
      },
      "cell_type": "code",
      "source": [
        "import numpy as np\n",
        "import pandas as pd\n",
        "import matplotlib.pyplot as plt\n",
        "import seaborn as sns"
      ],
      "execution_count": 0,
      "outputs": []
    },
    {
      "metadata": {
        "id": "cJI99AO147xW",
        "colab_type": "code",
        "outputId": "873b2912-9edd-4f4f-bbb5-d75f484de5c2",
        "colab": {
          "base_uri": "https://localhost:8080/",
          "height": 86
        }
      },
      "cell_type": "code",
      "source": [
        "from sklearn.datasets import load_iris\n",
        "iris = load_iris()\n",
        "\n",
        "# another way to load the iris dataset\n",
        "# url = \"https://archive.ics.uci.edu/ml/machine-learning-databases/iris/iris.data\"\n",
        "# df = pd.read_csv(url, names=['sepal length','sepal width','petal length','petal width','target'])\n",
        "\n",
        "iris.feature_names"
      ],
      "execution_count": 0,
      "outputs": [
        {
          "output_type": "execute_result",
          "data": {
            "text/plain": [
              "['sepal length (cm)',\n",
              " 'sepal width (cm)',\n",
              " 'petal length (cm)',\n",
              " 'petal width (cm)']"
            ]
          },
          "metadata": {
            "tags": []
          },
          "execution_count": 2
        }
      ]
    },
    {
      "metadata": {
        "id": "jZMDhcm32O89",
        "colab_type": "code",
        "outputId": "cd281dc2-6173-4e31-bd0f-1172f21c99c5",
        "colab": {
          "base_uri": "https://localhost:8080/",
          "height": 215
        }
      },
      "cell_type": "code",
      "source": [
        "X = pd.DataFrame(iris.data, columns=iris.feature_names)\n",
        "y = np.array([iris.target]).T\n",
        "\n",
        "df = pd.DataFrame(np.concatenate((X, y), axis=1),\n",
        "                  columns=iris.feature_names + ['target'])\n",
        "df.head()"
      ],
      "execution_count": 0,
      "outputs": [
        {
          "output_type": "execute_result",
          "data": {
            "text/html": [
              "<div>\n",
              "<style scoped>\n",
              "    .dataframe tbody tr th:only-of-type {\n",
              "        vertical-align: middle;\n",
              "    }\n",
              "\n",
              "    .dataframe tbody tr th {\n",
              "        vertical-align: top;\n",
              "    }\n",
              "\n",
              "    .dataframe thead th {\n",
              "        text-align: right;\n",
              "    }\n",
              "</style>\n",
              "<table border=\"1\" class=\"dataframe\">\n",
              "  <thead>\n",
              "    <tr style=\"text-align: right;\">\n",
              "      <th></th>\n",
              "      <th>sepal length (cm)</th>\n",
              "      <th>sepal width (cm)</th>\n",
              "      <th>petal length (cm)</th>\n",
              "      <th>petal width (cm)</th>\n",
              "      <th>target</th>\n",
              "    </tr>\n",
              "  </thead>\n",
              "  <tbody>\n",
              "    <tr>\n",
              "      <th>0</th>\n",
              "      <td>5.1</td>\n",
              "      <td>3.5</td>\n",
              "      <td>1.4</td>\n",
              "      <td>0.2</td>\n",
              "      <td>0.0</td>\n",
              "    </tr>\n",
              "    <tr>\n",
              "      <th>1</th>\n",
              "      <td>4.9</td>\n",
              "      <td>3.0</td>\n",
              "      <td>1.4</td>\n",
              "      <td>0.2</td>\n",
              "      <td>0.0</td>\n",
              "    </tr>\n",
              "    <tr>\n",
              "      <th>2</th>\n",
              "      <td>4.7</td>\n",
              "      <td>3.2</td>\n",
              "      <td>1.3</td>\n",
              "      <td>0.2</td>\n",
              "      <td>0.0</td>\n",
              "    </tr>\n",
              "    <tr>\n",
              "      <th>3</th>\n",
              "      <td>4.6</td>\n",
              "      <td>3.1</td>\n",
              "      <td>1.5</td>\n",
              "      <td>0.2</td>\n",
              "      <td>0.0</td>\n",
              "    </tr>\n",
              "    <tr>\n",
              "      <th>4</th>\n",
              "      <td>5.0</td>\n",
              "      <td>3.6</td>\n",
              "      <td>1.4</td>\n",
              "      <td>0.2</td>\n",
              "      <td>0.0</td>\n",
              "    </tr>\n",
              "  </tbody>\n",
              "</table>\n",
              "</div>"
            ],
            "text/plain": [
              "   sepal length (cm)  sepal width (cm)  petal length (cm)  petal width (cm)  \\\n",
              "0                5.1               3.5                1.4               0.2   \n",
              "1                4.9               3.0                1.4               0.2   \n",
              "2                4.7               3.2                1.3               0.2   \n",
              "3                4.6               3.1                1.5               0.2   \n",
              "4                5.0               3.6                1.4               0.2   \n",
              "\n",
              "   target  \n",
              "0     0.0  \n",
              "1     0.0  \n",
              "2     0.0  \n",
              "3     0.0  \n",
              "4     0.0  "
            ]
          },
          "metadata": {
            "tags": []
          },
          "execution_count": 3
        }
      ]
    },
    {
      "metadata": {
        "id": "IU3_Totn7GHE",
        "colab_type": "code",
        "outputId": "85f48b5c-0613-4c34-d449-9560c09f9051",
        "colab": {
          "base_uri": "https://localhost:8080/",
          "height": 361
        }
      },
      "cell_type": "code",
      "source": [
        "# Set default Seaborn style\n",
        "sns.set()\n",
        "\n",
        "# Numpy Array: subset of the data set containing the iris versicolor petal length\n",
        "versicolor_petal_length = df[['petal length (cm)']].values\n",
        "petal_lengths = versicolor_petal_length[50:100]\n",
        "# this is a sample containing 50 successive values\n",
        "\n",
        "# Plot histogram of versicolor petal lengths\n",
        "_ = plt.hist(petal_lengths)\n",
        "_ = plt.xlabel('petal length (cm)')\n",
        "_ = plt.ylabel('count')\n",
        "\n",
        "# Show histogram\n",
        "plt.show()"
      ],
      "execution_count": 0,
      "outputs": [
        {
          "output_type": "display_data",
          "data": {
            "image/png": "[encoded data removed]",
            "text/plain": [
              "<Figure size 576x396 with 1 Axes>"
            ]
          },
          "metadata": {
            "tags": []
          }
        }
      ]
    },
    {
      "metadata": {
        "id": "cFjuRgwk-Xlq",
        "colab_type": "text"
      },
      "cell_type": "markdown",
      "source": [
        "The histogram we just made had ten bins. This is the default of matplotlib. The \"square root rule\" is a commonly-used rule of thumb for choosing number of bins: choose the number of bins to be the square root of the number of samples. Let's plot the histogram of Iris versicolor petal lengths again, this time using the square root rule for the number of bins."
      ]
    },
    {
      "metadata": {
        "id": "kd6HibyP-dif",
        "colab_type": "code",
        "outputId": "f9b6259d-106b-4a70-db53-6f8f28f7958f",
        "colab": {
          "base_uri": "https://localhost:8080/",
          "height": 361
        }
      },
      "cell_type": "code",
      "source": [
        "_ = plt.hist(petal_lengths, bins = int(np.sqrt(len(petal_lengths))))\n",
        "# 7 bins for 50 samples\n",
        "\n",
        "_ = plt.xlabel('petal length (cm)')\n",
        "_ = plt.ylabel('count')\n",
        "plt.show()"
      ],
      "execution_count": 0,
      "outputs": [
        {
          "output_type": "display_data",
          "data": {
            "image/png": "[encoded data removed]",
            "text/plain": [
              "<Figure size 576x396 with 1 Axes>"
            ]
          },
          "metadata": {
            "tags": []
          }
        }
      ]
    },
    {
      "metadata": {
        "id": "O7Rj4yZFOmW0",
        "colab_type": "text"
      },
      "cell_type": "markdown",
      "source": [
        "Now the number of bins can be very tricky and can affect interpreting insights from the histogram. We will try another seaborn visualization technique: bee sworm. But first, we need to interpret the target class results (0, 1, 2) into actual flower species to be able to visualize our sworms."
      ]
    },
    {
      "metadata": {
        "id": "DrCwDz2JG253",
        "colab_type": "code",
        "outputId": "8979bd84-9c75-43e5-c5c2-f455db0cd189",
        "colab": {
          "base_uri": "https://localhost:8080/",
          "height": 215
        }
      },
      "cell_type": "code",
      "source": [
        "# Add Species column to df based on the target class\n",
        "df['species'] = np.where(df['target']==0.0, 'setosa',\n",
        "                         np.where(df['target']==2.0, 'virginica', 'versicolor species'))\n",
        "df.head()"
      ],
      "execution_count": 0,
      "outputs": [
        {
          "output_type": "execute_result",
          "data": {
            "text/html": [
              "<div>\n",
              "<style scoped>\n",
              "    .dataframe tbody tr th:only-of-type {\n",
              "        vertical-align: middle;\n",
              "    }\n",
              "\n",
              "    .dataframe tbody tr th {\n",
              "        vertical-align: top;\n",
              "    }\n",
              "\n",
              "    .dataframe thead th {\n",
              "        text-align: right;\n",
              "    }\n",
              "</style>\n",
              "<table border=\"1\" class=\"dataframe\">\n",
              "  <thead>\n",
              "    <tr style=\"text-align: right;\">\n",
              "      <th></th>\n",
              "      <th>sepal length (cm)</th>\n",
              "      <th>sepal width (cm)</th>\n",
              "      <th>petal length (cm)</th>\n",
              "      <th>petal width (cm)</th>\n",
              "      <th>target</th>\n",
              "      <th>species</th>\n",
              "    </tr>\n",
              "  </thead>\n",
              "  <tbody>\n",
              "    <tr>\n",
              "      <th>0</th>\n",
              "      <td>5.1</td>\n",
              "      <td>3.5</td>\n",
              "      <td>1.4</td>\n",
              "      <td>0.2</td>\n",
              "      <td>0.0</td>\n",
              "      <td>setosa</td>\n",
              "    </tr>\n",
              "    <tr>\n",
              "      <th>1</th>\n",
              "      <td>4.9</td>\n",
              "      <td>3.0</td>\n",
              "      <td>1.4</td>\n",
              "      <td>0.2</td>\n",
              "      <td>0.0</td>\n",
              "      <td>setosa</td>\n",
              "    </tr>\n",
              "    <tr>\n",
              "      <th>2</th>\n",
              "      <td>4.7</td>\n",
              "      <td>3.2</td>\n",
              "      <td>1.3</td>\n",
              "      <td>0.2</td>\n",
              "      <td>0.0</td>\n",
              "      <td>setosa</td>\n",
              "    </tr>\n",
              "    <tr>\n",
              "      <th>3</th>\n",
              "      <td>4.6</td>\n",
              "      <td>3.1</td>\n",
              "      <td>1.5</td>\n",
              "      <td>0.2</td>\n",
              "      <td>0.0</td>\n",
              "      <td>setosa</td>\n",
              "    </tr>\n",
              "    <tr>\n",
              "      <th>4</th>\n",
              "      <td>5.0</td>\n",
              "      <td>3.6</td>\n",
              "      <td>1.4</td>\n",
              "      <td>0.2</td>\n",
              "      <td>0.0</td>\n",
              "      <td>setosa</td>\n",
              "    </tr>\n",
              "  </tbody>\n",
              "</table>\n",
              "</div>"
            ],
            "text/plain": [
              "   sepal length (cm)  sepal width (cm)  petal length (cm)  petal width (cm)  \\\n",
              "0                5.1               3.5                1.4               0.2   \n",
              "1                4.9               3.0                1.4               0.2   \n",
              "2                4.7               3.2                1.3               0.2   \n",
              "3                4.6               3.1                1.5               0.2   \n",
              "4                5.0               3.6                1.4               0.2   \n",
              "\n",
              "   target species  \n",
              "0     0.0  setosa  \n",
              "1     0.0  setosa  \n",
              "2     0.0  setosa  \n",
              "3     0.0  setosa  \n",
              "4     0.0  setosa  "
            ]
          },
          "metadata": {
            "tags": []
          },
          "execution_count": 6
        }
      ]
    },
    {
      "metadata": {
        "id": "nnhGDH-3-x0H",
        "colab_type": "code",
        "outputId": "0c9f6ca3-0892-46af-c820-8daaf12cc478",
        "colab": {
          "base_uri": "https://localhost:8080/",
          "height": 361
        }
      },
      "cell_type": "code",
      "source": [
        "# Create bee swarm plot with Seaborn's default settings\n",
        "_ = sns.swarmplot(x='species', y='petal length (cm)', data=df)\n",
        "_ = plt.xlabel('species')\n",
        "_ = plt.ylabel('petal length (cm)')\n",
        "plt.show()"
      ],
      "execution_count": 0,
      "outputs": [
        {
          "output_type": "display_data",
          "data": {
            "image/png": "[encoded data removed]",
            "text/plain": [
              "<Figure size 576x396 with 1 Axes>"
            ]
          },
          "metadata": {
            "tags": []
          }
        }
      ]
    },
    {
      "metadata": {
        "id": "kUrO0vHFOOjq",
        "colab_type": "text"
      },
      "cell_type": "markdown",
      "source": [
        "From the above bee swarm, we can infer that virginica petals tend to be the longest of the three species, and setosa petals tend to be the shortest. Some individual virginica flowers may be shorter than individual versicolor flowers. It is also possible that an individual setosa flower may have longer petals than an individual versicolor flower, although this is highly unlikely."
      ]
    },
    {
      "metadata": {
        "id": "WwLhTuKzCbGx",
        "colab_type": "text"
      },
      "cell_type": "markdown",
      "source": [
        "However, when dealing with a huge number of data points, bee sworms has a problem: the edges may have overlapping data points to fit all points on the plot and it is hard to make sense out of the visualization that way. As an alternative, we can use ECDF plots or box plots. As for ECDF: we plot the number of data points on x-axis and the fraction of data points that have a value that is smaller than the corresponding x-value on y-axis."
      ]
    },
    {
      "metadata": {
        "id": "RVOjtPxMD_o7",
        "colab_type": "code",
        "colab": {}
      },
      "cell_type": "code",
      "source": [
        "def ecdf(data):\n",
        "    \"\"\"Compute Empirical Cumulative Distribution Function for\n",
        "    a one-dimensional array of measurements.\"\"\"\n",
        "    \n",
        "    # Number of data points: n\n",
        "    n = len(data)\n",
        "\n",
        "    # x-data for the ECDF: x\n",
        "    x = np.sort(data)\n",
        "\n",
        "    # y-data for the ECDF: y\n",
        "    y = np.arange(1, n+1) / n\n",
        "\n",
        "    return x, y\n",
        "  \n",
        "# The y data of the ECDF go from 1/n to 1 in equally spaced increments\n",
        "# We can construct this using np.arange()\n",
        "# The end value in np.arange() is not inclusive: np.arange() will be from 1 to n+1"
      ],
      "execution_count": 0,
      "outputs": []
    },
    {
      "metadata": {
        "id": "NKqTOX3LFsS3",
        "colab_type": "code",
        "outputId": "ee8ca0c5-6cc4-4195-bd85-d5bfadc69c03",
        "colab": {
          "base_uri": "https://localhost:8080/",
          "height": 361
        }
      },
      "cell_type": "code",
      "source": [
        "# Compute ECDF for versicolor data: x_vers, y_vers\n",
        "x, y = ecdf(versicolor_petal_length) # all samples\n",
        "\n",
        "# Generate plot\n",
        "_ = plt.plot(x, y, marker='.', linestyle='none')\n",
        "_ = plt.xlabel('petal length (cm)')\n",
        "_ = plt.ylabel('ECDF')\n",
        "\n",
        "plt.show()"
      ],
      "execution_count": 0,
      "outputs": [
        {
          "output_type": "display_data",
          "data": {
            "image/png": "[encoded data removed]",
            "text/plain": [
              "<Figure size 576x396 with 1 Axes>"
            ]
          },
          "metadata": {
            "tags": []
          }
        }
      ]
    },
    {
      "metadata": {
        "id": "jyWXW9QBHZI_",
        "colab_type": "text"
      },
      "cell_type": "markdown",
      "source": [
        "Let's plot ECDFs for the petal lengths of all three iris species. First, we will need to separate the petal length data points for each of the three species alone, then we can overlay the three ECDFs on the same plot."
      ]
    },
    {
      "metadata": {
        "id": "Z2n5FPyYH-St",
        "colab_type": "code",
        "outputId": "2c22189d-b782-413b-b342-5b822f62be03",
        "colab": {
          "base_uri": "https://localhost:8080/",
          "height": 361
        }
      },
      "cell_type": "code",
      "source": [
        "# Extracting data and applying ECDF\n",
        "setosa_petal_length = df[df['species'] == 'setosa']['petal length (cm)']\n",
        "versicolor_petal_length = df[df['species'] ==\n",
        "                             'versicolor species']['petal length (cm)']\n",
        "virginica_petal_length = df[df['species'] == 'virginica']['petal length (cm)']\n",
        "\n",
        "x_set, y_set = ecdf(setosa_petal_length)\n",
        "x_vers, y_vers = ecdf(versicolor_petal_length)\n",
        "x_virg, y_virg = ecdf(virginica_petal_length)\n",
        "\n",
        "# Plot all ECDFs on the same plot\n",
        "_ = plt.plot(x_set, y_set, marker='.', linestyle='none')\n",
        "_ = plt.plot(x_vers, y_vers, marker='.', linestyle='none')\n",
        "_ = plt.plot(x_virg, y_virg, marker='.', linestyle='none')\n",
        "\n",
        "# Annotate the plot\n",
        "plt.legend(('setosa', 'versicolor', 'virginica'), loc='lower right')\n",
        "_ = plt.xlabel('petal length (cm)')\n",
        "_ = plt.ylabel('ECDF')\n",
        "\n",
        "plt.show()"
      ],
      "execution_count": 0,
      "outputs": [
        {
          "output_type": "display_data",
          "data": {
            "image/png": "[encoded data removed]",
            "text/plain": [
              "<Figure size 576x396 with 1 Axes>"
            ]
          },
          "metadata": {
            "tags": []
          }
        }
      ]
    },
    {
      "metadata": {
        "id": "aWlAM9J1MylK",
        "colab_type": "text"
      },
      "cell_type": "markdown",
      "source": [
        "The ECDFs expose clear differences among the species. Setosa is much shorter, also with less absolute variability in petal length than versicolor and virginica.\n",
        "\n",
        "When the number of data points is too large (bee sworms are too cluttered), box plots are also a great alternative. Box plots are effective considering we want to know more statistical info about the data.\n",
        "\n",
        "Quick notes: the mean is affected by outliers but the median is not.\n",
        "The median is the 50th percentile: 50% of the data are less than the median.\n",
        "The 25th percentile is the value of the data point (datum) that is greater than just 25% of the data."
      ]
    },
    {
      "metadata": {
        "id": "bC076BVsPF7D",
        "colab_type": "code",
        "outputId": "a98454bb-79d5-466a-abc7-dbafd2969e6a",
        "colab": {
          "base_uri": "https://localhost:8080/",
          "height": 35
        }
      },
      "cell_type": "code",
      "source": [
        "# Specify array of percentiles\n",
        "percentiles = np.array([2.5, 25, 50, 75, 97.5])\n",
        "\n",
        "# Compute percentiles of the petal lengths of versicolor flower species\n",
        "vers_percentiles = np.percentile(versicolor_petal_length, percentiles)\n",
        "vers_percentiles"
      ],
      "execution_count": 0,
      "outputs": [
        {
          "output_type": "execute_result",
          "data": {
            "text/plain": [
              "array([3.3   , 4.    , 4.35  , 4.6   , 4.9775])"
            ]
          },
          "metadata": {
            "tags": []
          },
          "execution_count": 11
        }
      ]
    },
    {
      "metadata": {
        "id": "V3N5WaMkPh6D",
        "colab_type": "text"
      },
      "cell_type": "markdown",
      "source": [
        "This shows that 50% of the dataset has a petal length of 4.35 or below and 97.5% of the dataset has a petal length of 4.9 or below."
      ]
    },
    {
      "metadata": {
        "id": "bDNc7gRMQt-G",
        "colab_type": "code",
        "outputId": "1edab6e4-d1d4-48e9-e31f-b0c7d73d7732",
        "colab": {
          "base_uri": "https://localhost:8080/",
          "height": 361
        }
      },
      "cell_type": "code",
      "source": [
        "# Plot the ECDF\n",
        "_ = plt.plot(x_vers, y_vers, '.')\n",
        "_ = plt.xlabel('petal length (cm)')\n",
        "_ = plt.ylabel('ECDF')\n",
        "\n",
        "# Overlay percentiles as red diamonds\n",
        "_ = plt.plot(vers_percentiles, percentiles/100, marker='D', color='red',\n",
        "         linestyle='none')\n",
        "\n",
        "# Note: linestyle is the line that connects the points in action,\n",
        "# in this case: the red diamonds\n",
        "# it can take the value of none/solid/dotted/dashed\n",
        "\n",
        "plt.show()"
      ],
      "execution_count": 0,
      "outputs": [
        {
          "output_type": "display_data",
          "data": {
            "image/png": "[encoded data removed]",
            "text/plain": [
              "<Figure size 576x396 with 1 Axes>"
            ]
          },
          "metadata": {
            "tags": []
          }
        }
      ]
    },
    {
      "metadata": {
        "id": "_DDi8p53SN4r",
        "colab_type": "code",
        "outputId": "c73a5625-08f9-483c-c646-dd7e3d27409b",
        "colab": {
          "base_uri": "https://localhost:8080/",
          "height": 415
        }
      },
      "cell_type": "code",
      "source": [
        "# Create box plot with Seaborn's default settings\n",
        "_ = sns.boxplot(x='species', y='petal length (cm)', data=df)\n",
        "_ = plt.xlabel('species')\n",
        "_ = plt.ylabel('petal length (cm)')\n",
        "\n",
        "plt.show()"
      ],
      "execution_count": 0,
      "outputs": [
        {
          "output_type": "stream",
          "text": [
            "/usr/local/lib/python3.6/dist-packages/seaborn/categorical.py:454: FutureWarning: remove_na is deprecated and is a private function. Do not use.\n",
            "  box_data = remove_na(group_data)\n"
          ],
          "name": "stderr"
        },
        {
          "output_type": "display_data",
          "data": {
            "image/png": "[encoded data removed]",
            "text/plain": [
              "<Figure size 576x396 with 1 Axes>"
            ]
          },
          "metadata": {
            "tags": []
          }
        }
      ]
    },
    {
      "metadata": {
        "id": "MyZ0DZZATIxV",
        "colab_type": "text"
      },
      "cell_type": "markdown",
      "source": [
        "Box plots reveal the important features about the data at a glance. The center of the box is the 50th perc (median). The edges are the 25th and the 75th perc. The total height of the box contains the middle 50% of the data (Interquartile Range - IQR). The two segments extended from the box plot represents the distance of 1.5IQR (or the end/border of the data points, if it is less than 1.5IQR). All points outside these segments (whiskers) are often outliers (although not necessarily erroneous) and are represented as individual points. Being > 2IQR away from the median line is a comon criterion for an outlier.\n",
        "\n",
        "Quick note: in our case, the bee sworm works just fine and there is no real need for box plots. This is because the iris dataset is not too large.\n",
        "\n",
        "Now bee swarm plots, box plots, and ECDF plots helped us compare the petal lengths of different species of iris (row-wise). But what if we'd want to compare two properties of a single species? Exploring how two features (column-wise) relate to each other can be done by scatter-plotting. Suppose we want to explore the correlation between the petal length and petal width of the versicolor species flowers. First, we need to extract the petal widths of all the versicolor flowers then scatter-plot them against their petal lengths. If the flower scales (that is, it preserves its proportion as it grows), we would expect the length and width to be correlated (positive correlation).\n",
        "\n",
        "Quick note: in our case, scatter-plots are just data points plotted each on their own."
      ]
    },
    {
      "metadata": {
        "id": "MHgVU6ZiVJqU",
        "colab_type": "code",
        "outputId": "30242b1b-762a-4919-f5a6-182b07f87800",
        "colab": {
          "base_uri": "https://localhost:8080/",
          "height": 361
        }
      },
      "cell_type": "code",
      "source": [
        "# Extract petal widths of the versicolor flowers\n",
        "versicolor_petal_width = df[df['species'] == 'versicolor species']['petal width (cm)']\n",
        "\n",
        "# Create a Scatterplot\n",
        "_ = plt.plot(versicolor_petal_length, versicolor_petal_width,\n",
        "             marker='.', linestyle='none')\n",
        "_ = plt.xlabel('petal length (cm)')\n",
        "_ = plt.ylabel('petal width (cm)')\n",
        "\n",
        "plt.show()"
      ],
      "execution_count": 0,
      "outputs": [
        {
          "output_type": "display_data",
          "data": {
            "image/png": "[encoded data removed]",
            "text/plain": [
              "<Figure size 576x396 with 1 Axes>"
            ]
          },
          "metadata": {
            "tags": []
          }
        }
      ]
    },
    {
      "metadata": {
        "id": "nNZ91dj88pb8",
        "colab_type": "text"
      },
      "cell_type": "markdown",
      "source": [
        "The covariance at one sample (data point) is the mean of the product of the differences between the sample and the mean of the data on x-axis and the mean of the data on y-axis.\n",
        "\n",
        ">$ covariance = \\frac{1}{n}\\sum_{i=0}^n ((x_{i}-u_{x})(y_{i}-u_{y})) $\n",
        "\n",
        "As xi and yi of the sample in question has values greater than the axes respective means, then the covariance is positive: this means that x and y are positively correlated.\n",
        "\n",
        "Also, as xi is greater than ux and yi is lower than uy, this means that the covariance is negative (x and y are anti-correlated).\n",
        "\n",
        "Another metric of correlation is the Pearson Correlation Coefficient. This is just the covariance divided by the product of the std of the data on x-axis and the std od the data on the y-axis.\n",
        "\n",
        ">$ \\rho = \\frac{covariance}{(std_{x})(std_{y})} $\n",
        "\n",
        "PR is used because we want a universal metric that can calculate variabaility in our data without the resulted number being associated with the nature of our dataset (dimensionless - without any units). PR is the ratio between the variability in the data overall and the variability within each variable independently. It has a range from -1 to 1 where -1 represents 100% negative correlation and +1 represents 100% positive correlation.A value of zero means that there is no correlation at all between the two variables."
      ]
    },
    {
      "metadata": {
        "id": "GI0mi849mMRw",
        "colab_type": "code",
        "outputId": "47623660-9af0-4210-f13b-9c5301c44634",
        "colab": {
          "base_uri": "https://localhost:8080/",
          "height": 52
        }
      },
      "cell_type": "code",
      "source": [
        "# Compute the covariance matrix: covariance_matrix\n",
        "covariance_matrix = np.cov (versicolor_petal_length, versicolor_petal_width)\n",
        "\n",
        "# Extract covariance of length and width of petals\n",
        "petal_cov = covariance_matrix[0,1]\n",
        "\n",
        "# np.cov(x, y) returns a 2D array where entries [0,1] and [1,0]\n",
        "# are the covariances. entry [0,0] is the variance of the data in x,\n",
        "# and entry [1,1] is the variance of the data in y\n",
        "covariance_matrix"
      ],
      "execution_count": 0,
      "outputs": [
        {
          "output_type": "execute_result",
          "data": {
            "text/plain": [
              "array([[0.22081633, 0.07310204],\n",
              "       [0.07310204, 0.03910612]])"
            ]
          },
          "metadata": {
            "tags": []
          },
          "execution_count": 15
        }
      ]
    },
    {
      "metadata": {
        "id": "tbNFrouLoA1-",
        "colab_type": "code",
        "colab": {}
      },
      "cell_type": "code",
      "source": [
        "def pearson_r(x, y):\n",
        "    \"\"\"Compute Pearson correlation coefficient between two arrays.\"\"\"\n",
        "    \n",
        "    # Compute correlation matrix:\n",
        "    corr_mat = np.corrcoef(x, y)\n",
        "\n",
        "    return corr_mat[0,1]\n",
        "    # values of [0,1] and [1,0] are always the same\n",
        "    # values of [0,0] and [1,1] are always = 1"
      ],
      "execution_count": 0,
      "outputs": []
    },
    {
      "metadata": {
        "id": "RU7bjGr4oOAK",
        "colab_type": "code",
        "outputId": "21fb9788-8c6b-4a37-ea65-f586c71f2228",
        "colab": {
          "base_uri": "https://localhost:8080/",
          "height": 35
        }
      },
      "cell_type": "code",
      "source": [
        "# Compute Pearson correlation coefficient for I. versicolor: r\n",
        "r = pearson_r(versicolor_petal_length, versicolor_petal_width)\n",
        "r"
      ],
      "execution_count": 0,
      "outputs": [
        {
          "output_type": "execute_result",
          "data": {
            "text/plain": [
              "0.7866680885228169"
            ]
          },
          "metadata": {
            "tags": []
          },
          "execution_count": 17
        }
      ]
    },
    {
      "metadata": {
        "id": "Z5tMRAzcHOeG",
        "colab_type": "text"
      },
      "cell_type": "markdown",
      "source": [
        "This means that the petal length and the petal width of the versicolor flowers are positively correlated with a PR of 0.787."
      ]
    }
  ]
}